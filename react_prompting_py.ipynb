{
  "nbformat": 4,
  "nbformat_minor": 0,
  "metadata": {
    "colab": {
      "provenance": [],
      "authorship_tag": "ABX9TyNw0n1OTlh1lIFLNX19cz6U",
      "include_colab_link": true
    },
    "kernelspec": {
      "name": "python3",
      "display_name": "Python 3"
    },
    "language_info": {
      "name": "python"
    }
  },
  "cells": [
    {
      "cell_type": "markdown",
      "metadata": {
        "id": "view-in-github",
        "colab_type": "text"
      },
      "source": [
        "<a href=\"https://colab.research.google.com/github/karlhongjones/barlbong/blob/main/react_prompting_py.ipynb\" target=\"_parent\"><img src=\"https://colab.research.google.com/assets/colab-badge.svg\" alt=\"Open In Colab\"/></a>"
      ]
    },
    {
      "cell_type": "code",
      "execution_count": 2,
      "metadata": {
        "colab": {
          "base_uri": "https://localhost:8080/"
        },
        "id": "_Enupwd9uQc9",
        "outputId": "dd71ba84-e626-4fef-ab3f-ecdd4a6ee28f"
      },
      "outputs": [
        {
          "output_type": "stream",
          "name": "stdout",
          "text": [
            "Thought: I need to sum even numbers from 1 to N.\n",
            "Action: Write a simple loop.\n",
            "Observation: sum_evens(20) = 110\n",
            "Final: Correct!\n"
          ]
        }
      ],
      "source": [
        "print(\"Thought: I need to sum even numbers from 1 to N.\")\n",
        "print(\"Action: Write a simple loop.\")\n",
        "\n",
        "def sum_evens(N):\n",
        "    total = 0\n",
        "    for i in range(1, N+1):\n",
        "        if i % 2 == 0:\n",
        "            total += i\n",
        "    return total\n",
        "\n",
        "result = sum_evens(20)\n",
        "print(\"Observation: sum_evens(20) =\", result)\n",
        "\n",
        "if result == 110:\n",
        "    print(\"Final: Correct!\")\n",
        "else:\n",
        "    print(\"Final: Incorrect\")\n"
      ]
    }
  ]
}