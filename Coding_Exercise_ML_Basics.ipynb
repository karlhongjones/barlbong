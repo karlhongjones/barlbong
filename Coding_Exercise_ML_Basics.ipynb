{
  "nbformat": 4,
  "nbformat_minor": 0,
  "metadata": {
    "colab": {
      "provenance": [],
      "authorship_tag": "ABX9TyObTBlIIKYdsV7k4eHAcgkh",
      "include_colab_link": true
    },
    "kernelspec": {
      "name": "python3",
      "display_name": "Python 3"
    },
    "language_info": {
      "name": "python"
    }
  },
  "cells": [
    {
      "cell_type": "markdown",
      "metadata": {
        "id": "view-in-github",
        "colab_type": "text"
      },
      "source": [
        "<a href=\"https://colab.research.google.com/github/karlhongjones/barlbong/blob/main/Coding_Exercise_ML_Basics.ipynb\" target=\"_parent\"><img src=\"https://colab.research.google.com/assets/colab-badge.svg\" alt=\"Open In Colab\"/></a>"
      ]
    },
    {
      "cell_type": "code",
      "execution_count": 1,
      "metadata": {
        "colab": {
          "base_uri": "https://localhost:8080/"
        },
        "id": "7Rq5j5Y5jZfD",
        "outputId": "c4fcf7f8-bf05-4c14-f5b0-b621a7178145"
      },
      "outputs": [
        {
          "output_type": "stream",
          "name": "stdout",
          "text": [
            "Requirement already satisfied: numpy in /usr/local/lib/python3.12/dist-packages (2.0.2)\n",
            "Requirement already satisfied: pandas in /usr/local/lib/python3.12/dist-packages (2.2.2)\n",
            "Requirement already satisfied: scikit-learn in /usr/local/lib/python3.12/dist-packages (1.6.1)\n",
            "Requirement already satisfied: matplotlib in /usr/local/lib/python3.12/dist-packages (3.10.0)\n",
            "Requirement already satisfied: python-dateutil>=2.8.2 in /usr/local/lib/python3.12/dist-packages (from pandas) (2.9.0.post0)\n",
            "Requirement already satisfied: pytz>=2020.1 in /usr/local/lib/python3.12/dist-packages (from pandas) (2025.2)\n",
            "Requirement already satisfied: tzdata>=2022.7 in /usr/local/lib/python3.12/dist-packages (from pandas) (2025.2)\n",
            "Requirement already satisfied: scipy>=1.6.0 in /usr/local/lib/python3.12/dist-packages (from scikit-learn) (1.16.1)\n",
            "Requirement already satisfied: joblib>=1.2.0 in /usr/local/lib/python3.12/dist-packages (from scikit-learn) (1.5.2)\n",
            "Requirement already satisfied: threadpoolctl>=3.1.0 in /usr/local/lib/python3.12/dist-packages (from scikit-learn) (3.6.0)\n",
            "Requirement already satisfied: contourpy>=1.0.1 in /usr/local/lib/python3.12/dist-packages (from matplotlib) (1.3.3)\n",
            "Requirement already satisfied: cycler>=0.10 in /usr/local/lib/python3.12/dist-packages (from matplotlib) (0.12.1)\n",
            "Requirement already satisfied: fonttools>=4.22.0 in /usr/local/lib/python3.12/dist-packages (from matplotlib) (4.59.2)\n",
            "Requirement already satisfied: kiwisolver>=1.3.1 in /usr/local/lib/python3.12/dist-packages (from matplotlib) (1.4.9)\n",
            "Requirement already satisfied: packaging>=20.0 in /usr/local/lib/python3.12/dist-packages (from matplotlib) (25.0)\n",
            "Requirement already satisfied: pillow>=8 in /usr/local/lib/python3.12/dist-packages (from matplotlib) (11.3.0)\n",
            "Requirement already satisfied: pyparsing>=2.3.1 in /usr/local/lib/python3.12/dist-packages (from matplotlib) (3.2.3)\n",
            "Requirement already satisfied: six>=1.5 in /usr/local/lib/python3.12/dist-packages (from python-dateutil>=2.8.2->pandas) (1.17.0)\n"
          ]
        }
      ],
      "source": [
        "!pip install numpy pandas scikit-learn matplotlib\n"
      ]
    },
    {
      "cell_type": "code",
      "source": [
        "import pandas as pd\n",
        "from sklearn.compose import ColumnTransformer\n",
        "from sklearn.preprocessing import OneHotEncoder\n",
        "from sklearn.linear_model import LinearRegression\n",
        "from sklearn.pipeline import Pipeline\n",
        "\n",
        "# Sample dataset\n",
        "data = {\n",
        "    'square_footage': [1500, 1800, 2400, 3000, 3500],\n",
        "    'location': ['Downtown', 'Suburb', 'Suburb', 'Downtown', 'Rural'],\n",
        "    'price': [400000, 450000, 600000, 650000, 350000]\n",
        "}\n",
        "df = pd.DataFrame(data)\n",
        "\n",
        "# Features and target\n",
        "X = df[['square_footage', 'location']]\n",
        "y = df['price']\n",
        "\n",
        "# Preprocess\n",
        "preprocessor = ColumnTransformer([\n",
        "    ('cat', OneHotEncoder(), ['location'])\n",
        "], remainder='passthrough')\n",
        "\n",
        "# Model\n",
        "model = Pipeline([\n",
        "    ('pre', preprocessor),\n",
        "    ('reg', LinearRegression())\n",
        "])\n",
        "model.fit(X, y)\n",
        "\n",
        "# Predict for 2000 sq ft house in Downtown\n",
        "new_house = pd.DataFrame({'square_footage': [2000], 'location': ['Downtown']})\n",
        "pred = model.predict(new_house)\n",
        "print(\"Predicted Price:\", pred[0])\n",
        "\n",
        "# Coefficients\n",
        "print(\"Model Coefficients:\", model.named_steps['reg'].coef_)\n"
      ],
      "metadata": {
        "colab": {
          "base_uri": "https://localhost:8080/"
        },
        "id": "Cuu6j58qjrfm",
        "outputId": "8a9a1098-c3e9-4c94-bc5f-ae970f767578"
      },
      "execution_count": 2,
      "outputs": [
        {
          "output_type": "stream",
          "name": "stdout",
          "text": [
            "Predicted Price: 480459.7701149279\n",
            "Model Coefficients: [ 1.23659004e+05 -2.74042146e+05  1.50383142e+05  1.78160920e+02]\n"
          ]
        }
      ]
    },
    {
      "cell_type": "code",
      "source": [
        "import pandas as pd\n",
        "from sklearn.compose import ColumnTransformer\n",
        "from sklearn.preprocessing import StandardScaler, OneHotEncoder\n",
        "from sklearn.linear_model import LogisticRegression\n",
        "from sklearn.pipeline import Pipeline\n",
        "\n",
        "# Sample dataset\n",
        "data = {\n",
        "    'age': [25, 45, 52, 36, 40],\n",
        "    'monthly_usage': [300, 100, 50, 250, 120],\n",
        "    'purchase_amount': [100, 50, 20, 80, 40],\n",
        "    'customer_service_calls': [1, 4, 5, 2, 3],\n",
        "    'region': ['North', 'South', 'East', 'West', 'South'],\n",
        "    'churn': [0, 1, 1, 0, 1]\n",
        "}\n",
        "df = pd.DataFrame(data)\n",
        "\n",
        "X = df.drop('churn', axis=1)\n",
        "y = df['churn']\n",
        "\n",
        "# Preprocessing\n",
        "preprocessor = ColumnTransformer([\n",
        "    ('num', StandardScaler(), ['age','monthly_usage','purchase_amount','customer_service_calls']),\n",
        "    ('cat', OneHotEncoder(), ['region'])\n",
        "])\n",
        "\n",
        "# Model\n",
        "model = Pipeline([\n",
        "    ('pre', preprocessor),\n",
        "    ('clf', LogisticRegression())\n",
        "])\n",
        "model.fit(X, y)\n",
        "\n",
        "# Predict churn probability for a new customer\n",
        "new_customer = pd.DataFrame({\n",
        "    'age': [30], 'monthly_usage': [200], 'purchase_amount': [70],\n",
        "    'customer_service_calls': [2], 'region': ['North']\n",
        "})\n",
        "prob = model.predict_proba(new_customer)[0][1]\n",
        "print(\"Churn Probability:\", prob)\n",
        "print(\"At risk:\", prob > 0.5)\n"
      ],
      "metadata": {
        "colab": {
          "base_uri": "https://localhost:8080/"
        },
        "id": "zse-ojH_jzBy",
        "outputId": "f56c38cc-a779-4bf0-c880-fa57550c5fcb"
      },
      "execution_count": 3,
      "outputs": [
        {
          "output_type": "stream",
          "name": "stdout",
          "text": [
            "Churn Probability: 0.34096938905617824\n",
            "At risk: False\n"
          ]
        }
      ]
    },
    {
      "cell_type": "code",
      "source": [
        "import pandas as pd\n",
        "import matplotlib.pyplot as plt\n",
        "from sklearn.preprocessing import StandardScaler\n",
        "from sklearn.cluster import KMeans\n",
        "\n",
        "# Sample dataset\n",
        "data = {\n",
        "    'annual_spending': [1000, 2000, 3000, 1500, 5000, 7000, 800, 1200],\n",
        "    'purchase_frequency': [10, 20, 30, 15, 40, 50, 5, 8],\n",
        "    'age': [25, 40, 35, 50, 28, 45, 60, 30],\n",
        "    'region': ['North', 'South', 'East', 'West', 'North', 'South', 'East', 'West']\n",
        "}\n",
        "df = pd.DataFrame(data)\n",
        "\n",
        "# Scale features\n",
        "scaler = StandardScaler()\n",
        "X_scaled = scaler.fit_transform(df[['annual_spending', 'purchase_frequency', 'age']])\n",
        "\n",
        "# Elbow method\n",
        "inertias = []\n",
        "for k in range(1,6):\n",
        "    kmeans = KMeans(n_clusters=k, random_state=42)\n",
        "    kmeans.fit(X_scaled)\n",
        "    inertias.append(kmeans.inertia_)\n",
        "\n",
        "plt.plot(range(1,6), inertias, marker='o')\n",
        "plt.xlabel('k')\n",
        "plt.ylabel('Inertia')\n",
        "plt.title('Elbow Method')\n",
        "plt.show()\n",
        "\n",
        "# Cluster with k=3\n",
        "kmeans = KMeans(n_clusters=3, random_state=42)\n",
        "df['cluster'] = kmeans.fit_predict(X_scaled)\n",
        "print(df.groupby('cluster').mean(numeric_only=True))\n"
      ],
      "metadata": {
        "colab": {
          "base_uri": "https://localhost:8080/",
          "height": 559
        },
        "id": "k4pVb0tpj4DN",
        "outputId": "3c76bb61-f981-4b4d-9b4a-2e460087b657"
      },
      "execution_count": 5,
      "outputs": [
        {
          "output_type": "display_data",
          "data": {
            "text/plain": [
              "<Figure size 640x480 with 1 Axes>"
            ],
            "image/png": "[encoded data removed]"
          },
          "metadata": {}
        },
        {
          "output_type": "stream",
          "name": "stdout",
          "text": [
            "         annual_spending  purchase_frequency        age\n",
            "cluster                                                \n",
            "0                 5000.0           40.000000  36.000000\n",
            "1                 1150.0           10.000000  55.000000\n",
            "2                 1400.0           12.666667  31.666667\n"
          ]
        }
      ]
    }
  ]
}