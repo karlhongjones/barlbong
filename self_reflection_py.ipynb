{
  "nbformat": 4,
  "nbformat_minor": 0,
  "metadata": {
    "colab": {
      "provenance": [],
      "authorship_tag": "ABX9TyPxvO4R+EiT9oI9oy9vh+Xg",
      "include_colab_link": true
    },
    "kernelspec": {
      "name": "python3",
      "display_name": "Python 3"
    },
    "language_info": {
      "name": "python"
    }
  },
  "cells": [
    {
      "cell_type": "markdown",
      "metadata": {
        "id": "view-in-github",
        "colab_type": "text"
      },
      "source": [
        "<a href=\"https://colab.research.google.com/github/karlhongjones/barlbong/blob/main/self_reflection_py.ipynb\" target=\"_parent\"><img src=\"https://colab.research.google.com/assets/colab-badge.svg\" alt=\"Open In Colab\"/></a>"
      ]
    },
    {
      "cell_type": "code",
      "execution_count": 2,
      "metadata": {
        "colab": {
          "base_uri": "https://localhost:8080/"
        },
        "id": "CLZHLlYMubzW",
        "outputId": "89cf0788-329e-4c41-816d-00145117a1d7"
      },
      "outputs": [
        {
          "output_type": "stream",
          "name": "stdout",
          "text": [
            "Original Summary:\n",
            "In-N-Out is planning to expand to Japan. The company wants to bring its classic burgers to a new market but must adapt to local tastes.\n",
            "\n",
            "Critique:\n",
            "- Good: clear topic (In-N-Out expanding to Japan).\n",
            "- Missing: why Japan is chosen, possible challenges, and how the company might adapt.\n",
            "\n",
            "Improved Summary:\n",
            "In-N-Out is expanding to Japan to reach a strong fast-food market with high quality standards. The chain plans to keep its classic menu while adjusting flavors slightly for local tastes. This move could grow the brand internationally, but it will need to manage costs and supply carefully.\n"
          ]
        }
      ],
      "source": [
        "original = \"In-N-Out is planning to expand to Japan. The company wants to bring its classic burgers to a new market but must adapt to local tastes.\"\n",
        "\n",
        "print(\"Original Summary:\")\n",
        "print(original)\n",
        "\n",
        "print(\"\\nCritique:\")\n",
        "print(\"- Good: clear topic (In-N-Out expanding to Japan).\")\n",
        "print(\"- Missing: why Japan is chosen, possible challenges, and how the company might adapt.\")\n",
        "\n",
        "improved = (\n",
        "    \"In-N-Out is expanding to Japan to reach a strong fast-food market with high quality standards. \"\n",
        "    \"The chain plans to keep its classic menu while adjusting flavors slightly for local tastes. \"\n",
        "    \"This move could grow the brand internationally, but it will need to manage costs and supply carefully.\"\n",
        ")\n",
        "\n",
        "print(\"\\nImproved Summary:\")\n",
        "print(improved)\n"
      ]
    }
  ]
}